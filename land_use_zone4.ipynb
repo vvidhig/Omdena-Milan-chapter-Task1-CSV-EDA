{
  "nbformat": 4,
  "nbformat_minor": 0,
  "metadata": {
    "colab": {
      "provenance": []
    },
    "kernelspec": {
      "name": "python3",
      "display_name": "Python 3"
    },
    "language_info": {
      "name": "python"
    }
  },
  "cells": [
    {
      "cell_type": "code",
      "execution_count": 21,
      "metadata": {
        "id": "ef6oGlPX06pG"
      },
      "outputs": [],
      "source": [
        "import pandas as pd\n",
        "import numpy as np\n",
        "import re"
      ]
    },
    {
      "cell_type": "code",
      "source": [
        "df = pd.read_csv(\"land_use_zone4(1).csv\")"
      ],
      "metadata": {
        "id": "qKFoApCE1Dqa"
      },
      "execution_count": 2,
      "outputs": []
    },
    {
      "cell_type": "code",
      "source": [
        "new_df = df.drop(columns=[\"element_type\", \"nodes\"])"
      ],
      "metadata": {
        "id": "tlu2KUuN1b4M"
      },
      "execution_count": 8,
      "outputs": []
    },
    {
      "cell_type": "code",
      "source": [
        "def coordinates_extractor(series):\n",
        "    df = pd.DataFrame(columns=[\"latitudes\", \"longitudes\"])\n",
        "\n",
        "    for i in range(len(series)):\n",
        "        geometry_str = series.iloc[i]\n",
        "\n",
        "        coordinates_str = re.sub(r'[a-zA-Z]+', '', geometry_str).replace(\"(\", \"\").replace(\")\", \"\").strip()\n",
        "\n",
        "        coordinate_pairs = coordinates_str.split(\",\")\n",
        "\n",
        "        longitudes = []\n",
        "        latitudes = []\n",
        "\n",
        "        for pair in coordinate_pairs:\n",
        "            if pair.strip():\n",
        "                parts = pair.strip().split()\n",
        "                if len(parts) == 2:\n",
        "                    longitude, latitude = parts\n",
        "                    longitudes.append(float(longitude))\n",
        "                    latitudes.append(float(latitude))\n",
        "\n",
        "        df.loc[i] = [latitudes, longitudes]\n",
        "\n",
        "    return df"
      ],
      "metadata": {
        "id": "21R00_3r2OTB"
      },
      "execution_count": 38,
      "outputs": []
    },
    {
      "cell_type": "code",
      "source": [
        "coordinates = coordinates_extractor(new_df[\"geometry\"])"
      ],
      "metadata": {
        "id": "3Uf9pK-S6PwF"
      },
      "execution_count": 39,
      "outputs": []
    },
    {
      "cell_type": "code",
      "source": [
        "final_df = new_df[['landuse']]"
      ],
      "metadata": {
        "id": "1bItO4ZC7wc_"
      },
      "execution_count": 44,
      "outputs": []
    },
    {
      "cell_type": "code",
      "source": [
        "final_df = pd.concat([final_df, coordinates], axis=1)"
      ],
      "metadata": {
        "id": "bE-vi8e777-v"
      },
      "execution_count": 45,
      "outputs": []
    },
    {
      "cell_type": "code",
      "source": [
        "final_df.to_csv(\"zone4-landuse-geography.csv\", index=False)"
      ],
      "metadata": {
        "id": "rXbE4cwp88-M"
      },
      "execution_count": 47,
      "outputs": []
    }
  ]
}